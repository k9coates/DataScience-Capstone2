{
 "cells": [
  {
   "cell_type": "markdown",
   "id": "6e70fbee",
   "metadata": {},
   "source": [
    "*Problem Identification*\n",
    "Given factors that include the legal issue and the idenitity of the Supreme Court Justice, this project will model and predict how each Justice will vote on future legal issues. The vote by the Supreme Court Justice is a target variable. This model may guide law firms and public policy groups in making litigation decisions. Citation to the database: Harold J. Spaeth, Lee Epstein, et al. 2022 Supreme Court Database, Version 2022 Release 1. URL: http://Supremecourtdatabase.org \n"
   ]
  },
  {
   "cell_type": "code",
   "execution_count": 1,
   "id": "733cef7e",
   "metadata": {},
   "outputs": [],
   "source": [
    "#Import pandas, matplotlib.pyplot, and seaborn in the correct lines below\n",
    "import pandas as pd\n",
    "import numpy as np\n",
    "import matplotlib.pyplot as plt\n",
    "import seaborn as sns\n",
    "import os\n",
    "\n"
   ]
  },
  {
   "cell_type": "code",
   "execution_count": 2,
   "id": "7c017b09",
   "metadata": {},
   "outputs": [],
   "source": [
    "df = pd.read_csv('SCDB_2021_01_justiceCentered_LegalProvision.csv')\n"
   ]
  },
  {
   "cell_type": "code",
   "execution_count": 3,
   "id": "7e4d60ff",
   "metadata": {},
   "outputs": [
    {
     "name": "stdout",
     "output_type": "stream",
     "text": [
      "<class 'pandas.core.frame.DataFrame'>\n",
      "RangeIndex: 122088 entries, 0 to 122087\n",
      "Data columns (total 61 columns):\n",
      " #   Column                    Non-Null Count   Dtype  \n",
      "---  ------                    --------------   -----  \n",
      " 0   caseId                    122088 non-null  object \n",
      " 1   docketId                  122088 non-null  object \n",
      " 2   caseIssuesId              122088 non-null  object \n",
      " 3   voteId                    122088 non-null  object \n",
      " 4   dateDecision              122088 non-null  object \n",
      " 5   decisionType              122088 non-null  int64  \n",
      " 6   usCite                    117561 non-null  object \n",
      " 7   sctCite                   122088 non-null  object \n",
      " 8   ledCite                   122072 non-null  object \n",
      " 9   lexisCite                 122088 non-null  object \n",
      " 10  term                      122088 non-null  int64  \n",
      " 11  naturalCourt              122088 non-null  int64  \n",
      " 12  chief                     122088 non-null  object \n",
      " 13  docket                    121809 non-null  object \n",
      " 14  caseName                  122088 non-null  object \n",
      " 15  dateArgument              110294 non-null  object \n",
      " 16  dateRearg                 3341 non-null    object \n",
      " 17  petitioner                122070 non-null  float64\n",
      " 18  petitionerState           24033 non-null   float64\n",
      " 19  respondent                122016 non-null  float64\n",
      " 20  respondentState           33307 non-null   float64\n",
      " 21  jurisdiction              122070 non-null  float64\n",
      " 22  adminAction               37253 non-null   float64\n",
      " 23  adminActionState          9626 non-null    float64\n",
      " 24  threeJudgeFdc             121881 non-null  float64\n",
      " 25  caseOrigin                117902 non-null  float64\n",
      " 26  caseOriginState           32919 non-null   float64\n",
      " 27  caseSource                119522 non-null  float64\n",
      " 28  caseSourceState           27496 non-null   float64\n",
      " 29  lcDisagreement            121953 non-null  float64\n",
      " 30  certReason                120955 non-null  float64\n",
      " 31  lcDisposition             101897 non-null  float64\n",
      " 32  lcDispositionDirection    119844 non-null  float64\n",
      " 33  declarationUncon          122079 non-null  float64\n",
      " 34  caseDisposition           120643 non-null  float64\n",
      " 35  caseDispositionUnusual    122079 non-null  float64\n",
      " 36  partyWinning              121935 non-null  float64\n",
      " 37  precedentAlteration       122079 non-null  float64\n",
      " 38  voteUnclear               122070 non-null  float64\n",
      " 39  issue                     121486 non-null  float64\n",
      " 40  issueArea                 121486 non-null  float64\n",
      " 41  decisionDirection         121720 non-null  float64\n",
      " 42  decisionDirectionDissent  119965 non-null  float64\n",
      " 43  authorityDecision1        121459 non-null  float64\n",
      " 44  authorityDecision2        20224 non-null   float64\n",
      " 45  lawType                   107529 non-null  float64\n",
      " 46  lawSupp                   107529 non-null  float64\n",
      " 47  lawMinor                  22020 non-null   object \n",
      " 48  majOpinWriter             102256 non-null  float64\n",
      " 49  majOpinAssigner           119044 non-null  float64\n",
      " 50  splitVote                 122088 non-null  int64  \n",
      " 51  majVotes                  122088 non-null  int64  \n",
      " 52  minVotes                  122088 non-null  int64  \n",
      " 53  justice                   122088 non-null  int64  \n",
      " 54  justiceName               122088 non-null  object \n",
      " 55  vote                      118649 non-null  float64\n",
      " 56  opinion                   118640 non-null  float64\n",
      " 57  direction                 115231 non-null  float64\n",
      " 58  majority                  117592 non-null  float64\n",
      " 59  firstAgreement            16229 non-null   float64\n",
      " 60  secondAgreement           2467 non-null    float64\n",
      "dtypes: float64(38), int64(7), object(16)\n",
      "memory usage: 56.8+ MB\n"
     ]
    }
   ],
   "source": [
    "\n",
    "df.info()"
   ]
  },
  {
   "cell_type": "markdown",
   "id": "b8c46967",
   "metadata": {},
   "source": [
    "*This step selects the columns that are relevant to the analysis and limited to cases ruled on by Justice Roberts, who is considered a \"swing vote\" in many Supreme Court cases and now has additional significance as the current Chief Justice. I have decided to narrow the project to predicting Justice Robert's votes first, with additional analysis to be included later."
   ]
  },
  {
   "cell_type": "code",
   "execution_count": 4,
   "id": "c0bac745",
   "metadata": {},
   "outputs": [],
   "source": [
    "cols_to_subset = ['caseId','sctCite', 'caseName', 'chief', 'issue', 'issueArea', 'decisionDirection', 'authorityDecision1','lawType', 'lawSupp', 'lawMinor', 'partyWinning', 'precedentAlteration', 'splitVote', 'majVotes', 'minVotes', 'justice', 'justiceName', 'vote', 'opinion', 'direction', 'majority']"
   ]
  },
  {
   "cell_type": "code",
   "execution_count": 5,
   "id": "dbe270f5",
   "metadata": {},
   "outputs": [],
   "source": [
    "df = df[cols_to_subset]"
   ]
  },
  {
   "cell_type": "code",
   "execution_count": 6,
   "id": "3c46e73a",
   "metadata": {},
   "outputs": [],
   "source": [
    "df = df[df['justiceName'] == 'JGRoberts']"
   ]
  },
  {
   "cell_type": "code",
   "execution_count": 7,
   "id": "e24db162",
   "metadata": {},
   "outputs": [
    {
     "name": "stdout",
     "output_type": "stream",
     "text": [
      "<class 'pandas.core.frame.DataFrame'>\n",
      "Int64Index: 1527 entries, 108450 to 122079\n",
      "Data columns (total 22 columns):\n",
      " #   Column               Non-Null Count  Dtype  \n",
      "---  ------               --------------  -----  \n",
      " 0   caseId               1527 non-null   object \n",
      " 1   sctCite              1527 non-null   object \n",
      " 2   caseName             1527 non-null   object \n",
      " 3   chief                1527 non-null   object \n",
      " 4   issue                1523 non-null   float64\n",
      " 5   issueArea            1523 non-null   float64\n",
      " 6   decisionDirection    1522 non-null   float64\n",
      " 7   authorityDecision1   1501 non-null   float64\n",
      " 8   lawType              1492 non-null   float64\n",
      " 9   lawSupp              1492 non-null   float64\n",
      " 10  lawMinor             409 non-null    object \n",
      " 11  partyWinning         1526 non-null   float64\n",
      " 12  precedentAlteration  1527 non-null   float64\n",
      " 13  splitVote            1527 non-null   int64  \n",
      " 14  majVotes             1527 non-null   int64  \n",
      " 15  minVotes             1527 non-null   int64  \n",
      " 16  justice              1527 non-null   int64  \n",
      " 17  justiceName          1527 non-null   object \n",
      " 18  vote                 1513 non-null   float64\n",
      " 19  opinion              1512 non-null   float64\n",
      " 20  direction            1467 non-null   float64\n",
      " 21  majority             1504 non-null   float64\n",
      "dtypes: float64(12), int64(4), object(6)\n",
      "memory usage: 274.4+ KB\n"
     ]
    }
   ],
   "source": [
    "\n",
    "df.info()"
   ]
  },
  {
   "cell_type": "code",
   "execution_count": 8,
   "id": "7feabbf9",
   "metadata": {},
   "outputs": [
    {
     "data": {
      "text/html": [
       "<div>\n",
       "<style scoped>\n",
       "    .dataframe tbody tr th:only-of-type {\n",
       "        vertical-align: middle;\n",
       "    }\n",
       "\n",
       "    .dataframe tbody tr th {\n",
       "        vertical-align: top;\n",
       "    }\n",
       "\n",
       "    .dataframe thead th {\n",
       "        text-align: right;\n",
       "    }\n",
       "</style>\n",
       "<table border=\"1\" class=\"dataframe\">\n",
       "  <thead>\n",
       "    <tr style=\"text-align: right;\">\n",
       "      <th></th>\n",
       "      <th>caseId</th>\n",
       "      <th>sctCite</th>\n",
       "      <th>caseName</th>\n",
       "      <th>chief</th>\n",
       "      <th>issue</th>\n",
       "      <th>issueArea</th>\n",
       "      <th>decisionDirection</th>\n",
       "      <th>authorityDecision1</th>\n",
       "      <th>lawType</th>\n",
       "      <th>lawSupp</th>\n",
       "      <th>...</th>\n",
       "      <th>precedentAlteration</th>\n",
       "      <th>splitVote</th>\n",
       "      <th>majVotes</th>\n",
       "      <th>minVotes</th>\n",
       "      <th>justice</th>\n",
       "      <th>justiceName</th>\n",
       "      <th>vote</th>\n",
       "      <th>opinion</th>\n",
       "      <th>direction</th>\n",
       "      <th>majority</th>\n",
       "    </tr>\n",
       "  </thead>\n",
       "  <tbody>\n",
       "    <tr>\n",
       "      <th>121998</th>\n",
       "      <td>2020-066</td>\n",
       "      <td>141 S. Ct. 1858</td>\n",
       "      <td>TERRY v. UNITED STATES</td>\n",
       "      <td>Roberts</td>\n",
       "      <td>10510.0</td>\n",
       "      <td>1.0</td>\n",
       "      <td>1.0</td>\n",
       "      <td>4.0</td>\n",
       "      <td>6.0</td>\n",
       "      <td>600.0</td>\n",
       "      <td>...</td>\n",
       "      <td>0.0</td>\n",
       "      <td>1</td>\n",
       "      <td>9</td>\n",
       "      <td>0</td>\n",
       "      <td>111</td>\n",
       "      <td>JGRoberts</td>\n",
       "      <td>1.0</td>\n",
       "      <td>1.0</td>\n",
       "      <td>1.0</td>\n",
       "      <td>2.0</td>\n",
       "    </tr>\n",
       "    <tr>\n",
       "      <th>122007</th>\n",
       "      <td>2020-067</td>\n",
       "      <td>141 S. Ct. 2090</td>\n",
       "      <td>GREER v. UNITED STATES</td>\n",
       "      <td>Roberts</td>\n",
       "      <td>10040.0</td>\n",
       "      <td>1.0</td>\n",
       "      <td>1.0</td>\n",
       "      <td>4.0</td>\n",
       "      <td>4.0</td>\n",
       "      <td>401.0</td>\n",
       "      <td>...</td>\n",
       "      <td>0.0</td>\n",
       "      <td>1</td>\n",
       "      <td>9</td>\n",
       "      <td>0</td>\n",
       "      <td>111</td>\n",
       "      <td>JGRoberts</td>\n",
       "      <td>1.0</td>\n",
       "      <td>1.0</td>\n",
       "      <td>1.0</td>\n",
       "      <td>2.0</td>\n",
       "    </tr>\n",
       "    <tr>\n",
       "      <th>122016</th>\n",
       "      <td>2020-067</td>\n",
       "      <td>141 S. Ct. 2090</td>\n",
       "      <td>UNITED STATES v. GARY</td>\n",
       "      <td>Roberts</td>\n",
       "      <td>10040.0</td>\n",
       "      <td>1.0</td>\n",
       "      <td>1.0</td>\n",
       "      <td>4.0</td>\n",
       "      <td>4.0</td>\n",
       "      <td>401.0</td>\n",
       "      <td>...</td>\n",
       "      <td>0.0</td>\n",
       "      <td>1</td>\n",
       "      <td>8</td>\n",
       "      <td>1</td>\n",
       "      <td>111</td>\n",
       "      <td>JGRoberts</td>\n",
       "      <td>1.0</td>\n",
       "      <td>1.0</td>\n",
       "      <td>1.0</td>\n",
       "      <td>2.0</td>\n",
       "    </tr>\n",
       "    <tr>\n",
       "      <th>122025</th>\n",
       "      <td>2020-068</td>\n",
       "      <td>141 S. Ct. 2244</td>\n",
       "      <td>PENNEAST PIPELINE CO. v. NEW JERSEY</td>\n",
       "      <td>Roberts</td>\n",
       "      <td>40070.0</td>\n",
       "      <td>4.0</td>\n",
       "      <td>2.0</td>\n",
       "      <td>1.0</td>\n",
       "      <td>2.0</td>\n",
       "      <td>211.0</td>\n",
       "      <td>...</td>\n",
       "      <td>0.0</td>\n",
       "      <td>1</td>\n",
       "      <td>5</td>\n",
       "      <td>4</td>\n",
       "      <td>111</td>\n",
       "      <td>JGRoberts</td>\n",
       "      <td>1.0</td>\n",
       "      <td>2.0</td>\n",
       "      <td>2.0</td>\n",
       "      <td>2.0</td>\n",
       "    </tr>\n",
       "    <tr>\n",
       "      <th>122034</th>\n",
       "      <td>2020-068</td>\n",
       "      <td>141 S. Ct. 2244</td>\n",
       "      <td>PENNEAST PIPELINE CO. v. NEW JERSEY</td>\n",
       "      <td>Roberts</td>\n",
       "      <td>80310.0</td>\n",
       "      <td>8.0</td>\n",
       "      <td>2.0</td>\n",
       "      <td>4.0</td>\n",
       "      <td>3.0</td>\n",
       "      <td>355.0</td>\n",
       "      <td>...</td>\n",
       "      <td>0.0</td>\n",
       "      <td>1</td>\n",
       "      <td>5</td>\n",
       "      <td>4</td>\n",
       "      <td>111</td>\n",
       "      <td>JGRoberts</td>\n",
       "      <td>1.0</td>\n",
       "      <td>2.0</td>\n",
       "      <td>2.0</td>\n",
       "      <td>2.0</td>\n",
       "    </tr>\n",
       "    <tr>\n",
       "      <th>122043</th>\n",
       "      <td>2020-070</td>\n",
       "      <td>141 S. Ct. 1145</td>\n",
       "      <td>MAYS, WARDEN v. HINES</td>\n",
       "      <td>Roberts</td>\n",
       "      <td>10020.0</td>\n",
       "      <td>1.0</td>\n",
       "      <td>1.0</td>\n",
       "      <td>4.0</td>\n",
       "      <td>3.0</td>\n",
       "      <td>341.0</td>\n",
       "      <td>...</td>\n",
       "      <td>0.0</td>\n",
       "      <td>1</td>\n",
       "      <td>8</td>\n",
       "      <td>1</td>\n",
       "      <td>111</td>\n",
       "      <td>JGRoberts</td>\n",
       "      <td>1.0</td>\n",
       "      <td>1.0</td>\n",
       "      <td>1.0</td>\n",
       "      <td>2.0</td>\n",
       "    </tr>\n",
       "    <tr>\n",
       "      <th>122052</th>\n",
       "      <td>2020-071</td>\n",
       "      <td>141 S. Ct. 1467</td>\n",
       "      <td>ALASKA v. WRIGHT</td>\n",
       "      <td>Roberts</td>\n",
       "      <td>10020.0</td>\n",
       "      <td>1.0</td>\n",
       "      <td>1.0</td>\n",
       "      <td>4.0</td>\n",
       "      <td>3.0</td>\n",
       "      <td>341.0</td>\n",
       "      <td>...</td>\n",
       "      <td>0.0</td>\n",
       "      <td>1</td>\n",
       "      <td>9</td>\n",
       "      <td>0</td>\n",
       "      <td>111</td>\n",
       "      <td>JGRoberts</td>\n",
       "      <td>1.0</td>\n",
       "      <td>1.0</td>\n",
       "      <td>1.0</td>\n",
       "      <td>2.0</td>\n",
       "    </tr>\n",
       "    <tr>\n",
       "      <th>122061</th>\n",
       "      <td>2020-072</td>\n",
       "      <td>141 S. Ct. 2405</td>\n",
       "      <td>DUNN v. REEVES</td>\n",
       "      <td>Roberts</td>\n",
       "      <td>10020.0</td>\n",
       "      <td>1.0</td>\n",
       "      <td>1.0</td>\n",
       "      <td>3.0</td>\n",
       "      <td>3.0</td>\n",
       "      <td>341.0</td>\n",
       "      <td>...</td>\n",
       "      <td>0.0</td>\n",
       "      <td>1</td>\n",
       "      <td>6</td>\n",
       "      <td>3</td>\n",
       "      <td>111</td>\n",
       "      <td>JGRoberts</td>\n",
       "      <td>1.0</td>\n",
       "      <td>1.0</td>\n",
       "      <td>1.0</td>\n",
       "      <td>2.0</td>\n",
       "    </tr>\n",
       "    <tr>\n",
       "      <th>122070</th>\n",
       "      <td>2020-073</td>\n",
       "      <td>141 S. Ct. 2226</td>\n",
       "      <td>PAKDEL v. CITY AND COUNTY OF SAN FRANCISCO</td>\n",
       "      <td>Roberts</td>\n",
       "      <td>40070.0</td>\n",
       "      <td>4.0</td>\n",
       "      <td>1.0</td>\n",
       "      <td>2.0</td>\n",
       "      <td>2.0</td>\n",
       "      <td>211.0</td>\n",
       "      <td>...</td>\n",
       "      <td>0.0</td>\n",
       "      <td>1</td>\n",
       "      <td>9</td>\n",
       "      <td>0</td>\n",
       "      <td>111</td>\n",
       "      <td>JGRoberts</td>\n",
       "      <td>1.0</td>\n",
       "      <td>1.0</td>\n",
       "      <td>1.0</td>\n",
       "      <td>2.0</td>\n",
       "    </tr>\n",
       "    <tr>\n",
       "      <th>122079</th>\n",
       "      <td>2020-074</td>\n",
       "      <td>141 S. Ct. 2239</td>\n",
       "      <td>LOMBARDO v. ST. LOUIS</td>\n",
       "      <td>Roberts</td>\n",
       "      <td>40040.0</td>\n",
       "      <td>4.0</td>\n",
       "      <td>2.0</td>\n",
       "      <td>3.0</td>\n",
       "      <td>2.0</td>\n",
       "      <td>207.0</td>\n",
       "      <td>...</td>\n",
       "      <td>0.0</td>\n",
       "      <td>1</td>\n",
       "      <td>6</td>\n",
       "      <td>3</td>\n",
       "      <td>111</td>\n",
       "      <td>JGRoberts</td>\n",
       "      <td>1.0</td>\n",
       "      <td>1.0</td>\n",
       "      <td>2.0</td>\n",
       "      <td>2.0</td>\n",
       "    </tr>\n",
       "  </tbody>\n",
       "</table>\n",
       "<p>10 rows × 22 columns</p>\n",
       "</div>"
      ],
      "text/plain": [
       "          caseId          sctCite                                    caseName  \\\n",
       "121998  2020-066  141 S. Ct. 1858                      TERRY v. UNITED STATES   \n",
       "122007  2020-067  141 S. Ct. 2090                      GREER v. UNITED STATES   \n",
       "122016  2020-067  141 S. Ct. 2090                       UNITED STATES v. GARY   \n",
       "122025  2020-068  141 S. Ct. 2244         PENNEAST PIPELINE CO. v. NEW JERSEY   \n",
       "122034  2020-068  141 S. Ct. 2244         PENNEAST PIPELINE CO. v. NEW JERSEY   \n",
       "122043  2020-070  141 S. Ct. 1145                       MAYS, WARDEN v. HINES   \n",
       "122052  2020-071  141 S. Ct. 1467                            ALASKA v. WRIGHT   \n",
       "122061  2020-072  141 S. Ct. 2405                              DUNN v. REEVES   \n",
       "122070  2020-073  141 S. Ct. 2226  PAKDEL v. CITY AND COUNTY OF SAN FRANCISCO   \n",
       "122079  2020-074  141 S. Ct. 2239                       LOMBARDO v. ST. LOUIS   \n",
       "\n",
       "          chief    issue  issueArea  decisionDirection  authorityDecision1  \\\n",
       "121998  Roberts  10510.0        1.0                1.0                 4.0   \n",
       "122007  Roberts  10040.0        1.0                1.0                 4.0   \n",
       "122016  Roberts  10040.0        1.0                1.0                 4.0   \n",
       "122025  Roberts  40070.0        4.0                2.0                 1.0   \n",
       "122034  Roberts  80310.0        8.0                2.0                 4.0   \n",
       "122043  Roberts  10020.0        1.0                1.0                 4.0   \n",
       "122052  Roberts  10020.0        1.0                1.0                 4.0   \n",
       "122061  Roberts  10020.0        1.0                1.0                 3.0   \n",
       "122070  Roberts  40070.0        4.0                1.0                 2.0   \n",
       "122079  Roberts  40040.0        4.0                2.0                 3.0   \n",
       "\n",
       "        lawType  lawSupp  ... precedentAlteration  splitVote  majVotes  \\\n",
       "121998      6.0    600.0  ...                 0.0          1         9   \n",
       "122007      4.0    401.0  ...                 0.0          1         9   \n",
       "122016      4.0    401.0  ...                 0.0          1         8   \n",
       "122025      2.0    211.0  ...                 0.0          1         5   \n",
       "122034      3.0    355.0  ...                 0.0          1         5   \n",
       "122043      3.0    341.0  ...                 0.0          1         8   \n",
       "122052      3.0    341.0  ...                 0.0          1         9   \n",
       "122061      3.0    341.0  ...                 0.0          1         6   \n",
       "122070      2.0    211.0  ...                 0.0          1         9   \n",
       "122079      2.0    207.0  ...                 0.0          1         6   \n",
       "\n",
       "        minVotes  justice  justiceName  vote opinion  direction  majority  \n",
       "121998         0      111    JGRoberts   1.0     1.0        1.0       2.0  \n",
       "122007         0      111    JGRoberts   1.0     1.0        1.0       2.0  \n",
       "122016         1      111    JGRoberts   1.0     1.0        1.0       2.0  \n",
       "122025         4      111    JGRoberts   1.0     2.0        2.0       2.0  \n",
       "122034         4      111    JGRoberts   1.0     2.0        2.0       2.0  \n",
       "122043         1      111    JGRoberts   1.0     1.0        1.0       2.0  \n",
       "122052         0      111    JGRoberts   1.0     1.0        1.0       2.0  \n",
       "122061         3      111    JGRoberts   1.0     1.0        1.0       2.0  \n",
       "122070         0      111    JGRoberts   1.0     1.0        1.0       2.0  \n",
       "122079         3      111    JGRoberts   1.0     1.0        2.0       2.0  \n",
       "\n",
       "[10 rows x 22 columns]"
      ]
     },
     "execution_count": 8,
     "metadata": {},
     "output_type": "execute_result"
    }
   ],
   "source": [
    "df.tail(10)"
   ]
  },
  {
   "cell_type": "code",
   "execution_count": 9,
   "id": "63a5bf53",
   "metadata": {},
   "outputs": [
    {
     "data": {
      "text/plain": [
       "(1527, 22)"
      ]
     },
     "execution_count": 9,
     "metadata": {},
     "output_type": "execute_result"
    }
   ],
   "source": [
    "df.shape"
   ]
  },
  {
   "cell_type": "code",
   "execution_count": 10,
   "id": "57bc24a0",
   "metadata": {},
   "outputs": [
    {
     "data": {
      "text/plain": [
       "10010.0      1\n",
       "10020.0     64\n",
       "10030.0      3\n",
       "10040.0     10\n",
       "10050.0     38\n",
       "            ..\n",
       "130020.0     3\n",
       "140010.0     1\n",
       "140030.0     1\n",
       "140060.0     2\n",
       "140070.0     1\n",
       "Name: issue, Length: 182, dtype: int64"
      ]
     },
     "execution_count": 10,
     "metadata": {},
     "output_type": "execute_result"
    }
   ],
   "source": [
    "df['issue'].value_counts().sort_index()"
   ]
  },
  {
   "cell_type": "code",
   "execution_count": 11,
   "id": "f24ee103",
   "metadata": {},
   "outputs": [
    {
     "data": {
      "image/png": "[encoded data removed]",
      "text/plain": [
       "<Figure size 432x288 with 1 Axes>"
      ]
     },
     "metadata": {
      "needs_background": "light"
     },
     "output_type": "display_data"
    }
   ],
   "source": [
    "sns.countplot(data=df, x='issue')\n",
    "plt.show()"
   ]
  },
  {
   "cell_type": "markdown",
   "id": "58c6e377",
   "metadata": {},
   "source": [
    "*issue values are described in the code book as representing specific areas of law: http://scdb.wustl.edu/documentation.php?var=issue. In future versions of this project, it may help to attach a label to the issue values."
   ]
  },
  {
   "cell_type": "code",
   "execution_count": 12,
   "id": "55524984",
   "metadata": {},
   "outputs": [
    {
     "data": {
      "text/plain": [
       "1.0     378\n",
       "2.0     251\n",
       "3.0     101\n",
       "4.0      45\n",
       "5.0      29\n",
       "6.0      23\n",
       "7.0      36\n",
       "8.0     321\n",
       "9.0     210\n",
       "10.0     78\n",
       "11.0     12\n",
       "12.0     16\n",
       "13.0     18\n",
       "14.0      5\n",
       "Name: issueArea, dtype: int64"
      ]
     },
     "execution_count": 12,
     "metadata": {},
     "output_type": "execute_result"
    }
   ],
   "source": [
    "df['issueArea'].value_counts().sort_index()"
   ]
  },
  {
   "cell_type": "code",
   "execution_count": 13,
   "id": "caae4458",
   "metadata": {
    "scrolled": true
   },
   "outputs": [
    {
     "data": {
      "image/png": "[encoded data removed]",
      "text/plain": [
       "<Figure size 432x288 with 1 Axes>"
      ]
     },
     "metadata": {
      "needs_background": "light"
     },
     "output_type": "display_data"
    }
   ],
   "source": [
    "sns.countplot(data=df, x='issueArea')\n",
    "plt.show()"
   ]
  },
  {
   "cell_type": "markdown",
   "id": "00ccc253",
   "metadata": {},
   "source": [
    "*issueArea variable represents a legal issue category and is listed here as including numbers 1 through 14: http://scdb.wustl.edu/documentation.php?var=issueArea"
   ]
  },
  {
   "cell_type": "markdown",
   "id": "8349932c",
   "metadata": {},
   "source": [
    "NOTE: The \"substantive variables\" described in the code book should be explored as possible feature variables as well. Most, if not all, of the variables in this data are categorical, including the target variable of how a Justice votes on a particular case (for or against): http://scdb.wustl.edu/documentation.php?"
   ]
  }
 ],
 "metadata": {
  "kernelspec": {
   "display_name": "Python 3 (ipykernel)",
   "language": "python",
   "name": "python3"
  },
  "language_info": {
   "codemirror_mode": {
    "name": "ipython",
    "version": 3
   },
   "file_extension": ".py",
   "mimetype": "text/x-python",
   "name": "python",
   "nbconvert_exporter": "python",
   "pygments_lexer": "ipython3",
   "version": "3.9.12"
  }
 },
 "nbformat": 4,
 "nbformat_minor": 5
}
